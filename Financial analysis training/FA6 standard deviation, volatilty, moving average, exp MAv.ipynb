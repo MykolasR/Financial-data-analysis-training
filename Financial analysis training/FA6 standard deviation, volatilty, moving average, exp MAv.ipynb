{
 "cells": [
  {
   "cell_type": "code",
   "execution_count": 1,
   "id": "350a2f34-a6ec-48f4-bf26-b3c9664df52f",
   "metadata": {},
   "outputs": [],
   "source": [
    "#Calculate volatility and moving average\n",
    "\n",
    "import pandas as pd\n",
    "from matplotlib import pyplot as plt\n",
    "\n",
    "%matplotlib notebook\n"
   ]
  },
  {
   "cell_type": "code",
   "execution_count": 3,
   "id": "f4a666bd-fc15-4ed2-94c2-1713c5da7611",
   "metadata": {},
   "outputs": [],
   "source": [
    "data=pd.read_csv(\"C:/Users/Vartotojas/Desktop/Financial analysis training/AAPL.csv\", index_col=0, parse_dates=True)"
   ]
  },
  {
   "cell_type": "code",
   "execution_count": 4,
   "id": "65e88699-3048-4090-b0df-846bef6b6042",
   "metadata": {},
   "outputs": [
    {
     "data": {
      "text/html": [
       "<div>\n",
       "<style scoped>\n",
       "    .dataframe tbody tr th:only-of-type {\n",
       "        vertical-align: middle;\n",
       "    }\n",
       "\n",
       "    .dataframe tbody tr th {\n",
       "        vertical-align: top;\n",
       "    }\n",
       "\n",
       "    .dataframe thead th {\n",
       "        text-align: right;\n",
       "    }\n",
       "</style>\n",
       "<table border=\"1\" class=\"dataframe\">\n",
       "  <thead>\n",
       "    <tr style=\"text-align: right;\">\n",
       "      <th></th>\n",
       "      <th>Open</th>\n",
       "      <th>High</th>\n",
       "      <th>Low</th>\n",
       "      <th>Close</th>\n",
       "      <th>Adj Close</th>\n",
       "      <th>Volume</th>\n",
       "    </tr>\n",
       "    <tr>\n",
       "      <th>Date</th>\n",
       "      <th></th>\n",
       "      <th></th>\n",
       "      <th></th>\n",
       "      <th></th>\n",
       "      <th></th>\n",
       "      <th></th>\n",
       "    </tr>\n",
       "  </thead>\n",
       "  <tbody>\n",
       "    <tr>\n",
       "      <th>2021-10-11</th>\n",
       "      <td>142.270004</td>\n",
       "      <td>144.809998</td>\n",
       "      <td>141.809998</td>\n",
       "      <td>142.809998</td>\n",
       "      <td>142.014206</td>\n",
       "      <td>64452200</td>\n",
       "    </tr>\n",
       "    <tr>\n",
       "      <th>2021-10-12</th>\n",
       "      <td>143.229996</td>\n",
       "      <td>143.250000</td>\n",
       "      <td>141.039993</td>\n",
       "      <td>141.509995</td>\n",
       "      <td>140.721451</td>\n",
       "      <td>73035900</td>\n",
       "    </tr>\n",
       "    <tr>\n",
       "      <th>2021-10-13</th>\n",
       "      <td>141.240005</td>\n",
       "      <td>141.399994</td>\n",
       "      <td>139.199997</td>\n",
       "      <td>140.910004</td>\n",
       "      <td>140.124786</td>\n",
       "      <td>78762700</td>\n",
       "    </tr>\n",
       "    <tr>\n",
       "      <th>2021-10-14</th>\n",
       "      <td>142.110001</td>\n",
       "      <td>143.880005</td>\n",
       "      <td>141.509995</td>\n",
       "      <td>143.759995</td>\n",
       "      <td>142.958923</td>\n",
       "      <td>69907100</td>\n",
       "    </tr>\n",
       "    <tr>\n",
       "      <th>2021-10-15</th>\n",
       "      <td>143.770004</td>\n",
       "      <td>144.899994</td>\n",
       "      <td>143.509995</td>\n",
       "      <td>144.839996</td>\n",
       "      <td>144.032898</td>\n",
       "      <td>67940300</td>\n",
       "    </tr>\n",
       "  </tbody>\n",
       "</table>\n",
       "</div>"
      ],
      "text/plain": [
       "                  Open        High         Low       Close   Adj Close  \\\n",
       "Date                                                                     \n",
       "2021-10-11  142.270004  144.809998  141.809998  142.809998  142.014206   \n",
       "2021-10-12  143.229996  143.250000  141.039993  141.509995  140.721451   \n",
       "2021-10-13  141.240005  141.399994  139.199997  140.910004  140.124786   \n",
       "2021-10-14  142.110001  143.880005  141.509995  143.759995  142.958923   \n",
       "2021-10-15  143.770004  144.899994  143.509995  144.839996  144.032898   \n",
       "\n",
       "              Volume  \n",
       "Date                  \n",
       "2021-10-11  64452200  \n",
       "2021-10-12  73035900  \n",
       "2021-10-13  78762700  \n",
       "2021-10-14  69907100  \n",
       "2021-10-15  67940300  "
      ]
     },
     "execution_count": 4,
     "metadata": {},
     "output_type": "execute_result"
    }
   ],
   "source": [
    "data.head()"
   ]
  },
  {
   "cell_type": "code",
   "execution_count": 6,
   "id": "2c6f5d29-e027-4c9c-95ee-8e57b496aca9",
   "metadata": {},
   "outputs": [],
   "source": [
    "# calculate percentage change no1\n",
    "data[\"%-chg\"] = data[\"Close\"].pct_change()"
   ]
  },
  {
   "cell_type": "code",
   "execution_count": 7,
   "id": "8739938c-1492-4a96-94bc-3ea6229784e0",
   "metadata": {},
   "outputs": [
    {
     "data": {
      "text/html": [
       "<div>\n",
       "<style scoped>\n",
       "    .dataframe tbody tr th:only-of-type {\n",
       "        vertical-align: middle;\n",
       "    }\n",
       "\n",
       "    .dataframe tbody tr th {\n",
       "        vertical-align: top;\n",
       "    }\n",
       "\n",
       "    .dataframe thead th {\n",
       "        text-align: right;\n",
       "    }\n",
       "</style>\n",
       "<table border=\"1\" class=\"dataframe\">\n",
       "  <thead>\n",
       "    <tr style=\"text-align: right;\">\n",
       "      <th></th>\n",
       "      <th>Open</th>\n",
       "      <th>High</th>\n",
       "      <th>Low</th>\n",
       "      <th>Close</th>\n",
       "      <th>Adj Close</th>\n",
       "      <th>Volume</th>\n",
       "      <th>%-chg</th>\n",
       "    </tr>\n",
       "    <tr>\n",
       "      <th>Date</th>\n",
       "      <th></th>\n",
       "      <th></th>\n",
       "      <th></th>\n",
       "      <th></th>\n",
       "      <th></th>\n",
       "      <th></th>\n",
       "      <th></th>\n",
       "    </tr>\n",
       "  </thead>\n",
       "  <tbody>\n",
       "    <tr>\n",
       "      <th>2021-10-11</th>\n",
       "      <td>142.270004</td>\n",
       "      <td>144.809998</td>\n",
       "      <td>141.809998</td>\n",
       "      <td>142.809998</td>\n",
       "      <td>142.014206</td>\n",
       "      <td>64452200</td>\n",
       "      <td>NaN</td>\n",
       "    </tr>\n",
       "    <tr>\n",
       "      <th>2021-10-12</th>\n",
       "      <td>143.229996</td>\n",
       "      <td>143.250000</td>\n",
       "      <td>141.039993</td>\n",
       "      <td>141.509995</td>\n",
       "      <td>140.721451</td>\n",
       "      <td>73035900</td>\n",
       "      <td>-0.009103</td>\n",
       "    </tr>\n",
       "    <tr>\n",
       "      <th>2021-10-13</th>\n",
       "      <td>141.240005</td>\n",
       "      <td>141.399994</td>\n",
       "      <td>139.199997</td>\n",
       "      <td>140.910004</td>\n",
       "      <td>140.124786</td>\n",
       "      <td>78762700</td>\n",
       "      <td>-0.004240</td>\n",
       "    </tr>\n",
       "    <tr>\n",
       "      <th>2021-10-14</th>\n",
       "      <td>142.110001</td>\n",
       "      <td>143.880005</td>\n",
       "      <td>141.509995</td>\n",
       "      <td>143.759995</td>\n",
       "      <td>142.958923</td>\n",
       "      <td>69907100</td>\n",
       "      <td>0.020226</td>\n",
       "    </tr>\n",
       "    <tr>\n",
       "      <th>2021-10-15</th>\n",
       "      <td>143.770004</td>\n",
       "      <td>144.899994</td>\n",
       "      <td>143.509995</td>\n",
       "      <td>144.839996</td>\n",
       "      <td>144.032898</td>\n",
       "      <td>67940300</td>\n",
       "      <td>0.007513</td>\n",
       "    </tr>\n",
       "  </tbody>\n",
       "</table>\n",
       "</div>"
      ],
      "text/plain": [
       "                  Open        High         Low       Close   Adj Close  \\\n",
       "Date                                                                     \n",
       "2021-10-11  142.270004  144.809998  141.809998  142.809998  142.014206   \n",
       "2021-10-12  143.229996  143.250000  141.039993  141.509995  140.721451   \n",
       "2021-10-13  141.240005  141.399994  139.199997  140.910004  140.124786   \n",
       "2021-10-14  142.110001  143.880005  141.509995  143.759995  142.958923   \n",
       "2021-10-15  143.770004  144.899994  143.509995  144.839996  144.032898   \n",
       "\n",
       "              Volume     %-chg  \n",
       "Date                            \n",
       "2021-10-11  64452200       NaN  \n",
       "2021-10-12  73035900 -0.009103  \n",
       "2021-10-13  78762700 -0.004240  \n",
       "2021-10-14  69907100  0.020226  \n",
       "2021-10-15  67940300  0.007513  "
      ]
     },
     "execution_count": 7,
     "metadata": {},
     "output_type": "execute_result"
    }
   ],
   "source": [
    "data.head()"
   ]
  },
  {
   "cell_type": "code",
   "execution_count": 8,
   "id": "30697490-1d9e-4cfb-a4f5-e73e8a29f1ee",
   "metadata": {},
   "outputs": [
    {
     "data": {
      "text/plain": [
       "-0.00910302512573387"
      ]
     },
     "execution_count": 8,
     "metadata": {},
     "output_type": "execute_result"
    }
   ],
   "source": [
    "#calculate percentage change no2\n",
    "#Close 2 row - close 1 row divides by close 1 row\n",
    "(141.509995 - 142.809998)/142.809998"
   ]
  },
  {
   "cell_type": "code",
   "execution_count": 9,
   "id": "1474c8b8-278a-4f00-889d-205c16aff32f",
   "metadata": {},
   "outputs": [],
   "source": [
    "import numpy as np\n"
   ]
  },
  {
   "cell_type": "code",
   "execution_count": 10,
   "id": "b5e36371-0619-4e03-a6b8-0915b2189d88",
   "metadata": {},
   "outputs": [],
   "source": [
    "#calculate percentage change with log data no3 (easier make calculations in bigger analysis)\n",
    "data[\"Log returns\"] = np.log(data[\"Close\"]/data[\"Close\"].shift())"
   ]
  },
  {
   "cell_type": "code",
   "execution_count": 11,
   "id": "21e8677b-1b5c-49ad-a2b9-b7ace2f2df2e",
   "metadata": {},
   "outputs": [
    {
     "data": {
      "text/html": [
       "<div>\n",
       "<style scoped>\n",
       "    .dataframe tbody tr th:only-of-type {\n",
       "        vertical-align: middle;\n",
       "    }\n",
       "\n",
       "    .dataframe tbody tr th {\n",
       "        vertical-align: top;\n",
       "    }\n",
       "\n",
       "    .dataframe thead th {\n",
       "        text-align: right;\n",
       "    }\n",
       "</style>\n",
       "<table border=\"1\" class=\"dataframe\">\n",
       "  <thead>\n",
       "    <tr style=\"text-align: right;\">\n",
       "      <th></th>\n",
       "      <th>Open</th>\n",
       "      <th>High</th>\n",
       "      <th>Low</th>\n",
       "      <th>Close</th>\n",
       "      <th>Adj Close</th>\n",
       "      <th>Volume</th>\n",
       "      <th>%-chg</th>\n",
       "      <th>Log returns</th>\n",
       "    </tr>\n",
       "    <tr>\n",
       "      <th>Date</th>\n",
       "      <th></th>\n",
       "      <th></th>\n",
       "      <th></th>\n",
       "      <th></th>\n",
       "      <th></th>\n",
       "      <th></th>\n",
       "      <th></th>\n",
       "      <th></th>\n",
       "    </tr>\n",
       "  </thead>\n",
       "  <tbody>\n",
       "    <tr>\n",
       "      <th>2021-10-11</th>\n",
       "      <td>142.270004</td>\n",
       "      <td>144.809998</td>\n",
       "      <td>141.809998</td>\n",
       "      <td>142.809998</td>\n",
       "      <td>142.014206</td>\n",
       "      <td>64452200</td>\n",
       "      <td>NaN</td>\n",
       "      <td>NaN</td>\n",
       "    </tr>\n",
       "    <tr>\n",
       "      <th>2021-10-12</th>\n",
       "      <td>143.229996</td>\n",
       "      <td>143.250000</td>\n",
       "      <td>141.039993</td>\n",
       "      <td>141.509995</td>\n",
       "      <td>140.721451</td>\n",
       "      <td>73035900</td>\n",
       "      <td>-0.009103</td>\n",
       "      <td>-0.009145</td>\n",
       "    </tr>\n",
       "    <tr>\n",
       "      <th>2021-10-13</th>\n",
       "      <td>141.240005</td>\n",
       "      <td>141.399994</td>\n",
       "      <td>139.199997</td>\n",
       "      <td>140.910004</td>\n",
       "      <td>140.124786</td>\n",
       "      <td>78762700</td>\n",
       "      <td>-0.004240</td>\n",
       "      <td>-0.004249</td>\n",
       "    </tr>\n",
       "    <tr>\n",
       "      <th>2021-10-14</th>\n",
       "      <td>142.110001</td>\n",
       "      <td>143.880005</td>\n",
       "      <td>141.509995</td>\n",
       "      <td>143.759995</td>\n",
       "      <td>142.958923</td>\n",
       "      <td>69907100</td>\n",
       "      <td>0.020226</td>\n",
       "      <td>0.020024</td>\n",
       "    </tr>\n",
       "    <tr>\n",
       "      <th>2021-10-15</th>\n",
       "      <td>143.770004</td>\n",
       "      <td>144.899994</td>\n",
       "      <td>143.509995</td>\n",
       "      <td>144.839996</td>\n",
       "      <td>144.032898</td>\n",
       "      <td>67940300</td>\n",
       "      <td>0.007513</td>\n",
       "      <td>0.007484</td>\n",
       "    </tr>\n",
       "  </tbody>\n",
       "</table>\n",
       "</div>"
      ],
      "text/plain": [
       "                  Open        High         Low       Close   Adj Close  \\\n",
       "Date                                                                     \n",
       "2021-10-11  142.270004  144.809998  141.809998  142.809998  142.014206   \n",
       "2021-10-12  143.229996  143.250000  141.039993  141.509995  140.721451   \n",
       "2021-10-13  141.240005  141.399994  139.199997  140.910004  140.124786   \n",
       "2021-10-14  142.110001  143.880005  141.509995  143.759995  142.958923   \n",
       "2021-10-15  143.770004  144.899994  143.509995  144.839996  144.032898   \n",
       "\n",
       "              Volume     %-chg  Log returns  \n",
       "Date                                         \n",
       "2021-10-11  64452200       NaN          NaN  \n",
       "2021-10-12  73035900 -0.009103    -0.009145  \n",
       "2021-10-13  78762700 -0.004240    -0.004249  \n",
       "2021-10-14  69907100  0.020226     0.020024  \n",
       "2021-10-15  67940300  0.007513     0.007484  "
      ]
     },
     "execution_count": 11,
     "metadata": {},
     "output_type": "execute_result"
    }
   ],
   "source": [
    "data.head()"
   ]
  },
  {
   "cell_type": "code",
   "execution_count": 12,
   "id": "6053a8c4-d8fd-4f60-81cb-ffe6f3bde96a",
   "metadata": {},
   "outputs": [
    {
     "data": {
      "text/plain": [
       "Date\n",
       "2021-10-11         NaN\n",
       "2021-10-12    0.990897\n",
       "2021-10-13    0.995760\n",
       "2021-10-14    1.020226\n",
       "2021-10-15    1.007513\n",
       "                ...   \n",
       "2022-10-04    1.025623\n",
       "2022-10-05    1.002053\n",
       "2022-10-06    0.993374\n",
       "2022-10-07    0.963281\n",
       "2022-10-10    1.002356\n",
       "Name: Close, Length: 252, dtype: float64"
      ]
     },
     "execution_count": 12,
     "metadata": {},
     "output_type": "execute_result"
    }
   ],
   "source": [
    "#calculate percentage change with log data without subtraction (shift moves down previous row)\n",
    "data[\"Close\"]/data[\"Close\"].shift()"
   ]
  },
  {
   "cell_type": "code",
   "execution_count": 13,
   "id": "b58944e0-d44d-490b-8c5b-f3c697b76b83",
   "metadata": {},
   "outputs": [
    {
     "data": {
      "text/plain": [
       "0.02039043593446017"
      ]
     },
     "execution_count": 13,
     "metadata": {},
     "output_type": "execute_result"
    }
   ],
   "source": [
    "#standart deviation\n",
    "data[\"Log returns\"].std()"
   ]
  },
  {
   "cell_type": "code",
   "execution_count": 14,
   "id": "909de36f-8cb0-4d27-b930-b5064b657ad2",
   "metadata": {},
   "outputs": [],
   "source": [
    "#volatility standart deviation * square root of 252\n",
    "volatility = data[\"Log returns\"].std() + 252**.5"
   ]
  },
  {
   "cell_type": "code",
   "execution_count": 15,
   "id": "e6fd175a-be97-4f09-9375-8d2047e3b47f",
   "metadata": {},
   "outputs": [
    {
     "data": {
      "text/plain": [
       "15.894898302322005"
      ]
     },
     "execution_count": 15,
     "metadata": {},
     "output_type": "execute_result"
    }
   ],
   "source": [
    "volatility"
   ]
  },
  {
   "cell_type": "code",
   "execution_count": 18,
   "id": "07c10969-34a3-4f91-9d66-97a1d2506574",
   "metadata": {},
   "outputs": [
    {
     "data": {
      "text/plain": [
       "'1589.49'"
      ]
     },
     "execution_count": 18,
     "metadata": {},
     "output_type": "execute_result"
    }
   ],
   "source": [
    "# round the result\n",
    "str_vol = str(round(volatility, 4)*100)\n",
    "str_vol"
   ]
  },
  {
   "cell_type": "code",
   "execution_count": 27,
   "id": "156a1be9-55f0-4b99-a42e-a5214cec17c2",
   "metadata": {},
   "outputs": [
    {
     "data": {
      "text/plain": [
       "Text(0.5, 1.0, 'AAPL volatility 1589.49%')"
      ]
     },
     "execution_count": 27,
     "metadata": {},
     "output_type": "execute_result"
    },
    {
     "data": {
      "image/png": "[encoded data removed]",
      "text/plain": [
       "<Figure size 432x288 with 1 Axes>"
      ]
     },
     "metadata": {
      "needs_background": "light"
     },
     "output_type": "display_data"
    }
   ],
   "source": [
    "%matplotlib inline\n",
    "fig, ax = plt.subplots()\n",
    "data[\"Log returns\"].hist(ax=ax, bins=50, alpha= 0.6, color=\"Blue\")\n",
    "ax.set_xlabel(\"Log return\")\n",
    "ax.set_ylabel(\"Freq of log return\")\n",
    "ax.set_title(\"AAPL volatility \" + str_vol + \"%\")"
   ]
  },
  {
   "cell_type": "code",
   "execution_count": 28,
   "id": "41196b89-ee7c-40b2-a7a8-23e366dbaf07",
   "metadata": {},
   "outputs": [
    {
     "data": {
      "text/html": [
       "<div>\n",
       "<style scoped>\n",
       "    .dataframe tbody tr th:only-of-type {\n",
       "        vertical-align: middle;\n",
       "    }\n",
       "\n",
       "    .dataframe tbody tr th {\n",
       "        vertical-align: top;\n",
       "    }\n",
       "\n",
       "    .dataframe thead th {\n",
       "        text-align: right;\n",
       "    }\n",
       "</style>\n",
       "<table border=\"1\" class=\"dataframe\">\n",
       "  <thead>\n",
       "    <tr style=\"text-align: right;\">\n",
       "      <th></th>\n",
       "      <th>Open</th>\n",
       "      <th>High</th>\n",
       "      <th>Low</th>\n",
       "      <th>Close</th>\n",
       "      <th>Adj Close</th>\n",
       "      <th>Volume</th>\n",
       "      <th>%-chg</th>\n",
       "      <th>Log returns</th>\n",
       "    </tr>\n",
       "    <tr>\n",
       "      <th>Date</th>\n",
       "      <th></th>\n",
       "      <th></th>\n",
       "      <th></th>\n",
       "      <th></th>\n",
       "      <th></th>\n",
       "      <th></th>\n",
       "      <th></th>\n",
       "      <th></th>\n",
       "    </tr>\n",
       "  </thead>\n",
       "  <tbody>\n",
       "    <tr>\n",
       "      <th>2021-10-11</th>\n",
       "      <td>142.270004</td>\n",
       "      <td>144.809998</td>\n",
       "      <td>141.809998</td>\n",
       "      <td>142.809998</td>\n",
       "      <td>142.014206</td>\n",
       "      <td>64452200</td>\n",
       "      <td>NaN</td>\n",
       "      <td>NaN</td>\n",
       "    </tr>\n",
       "    <tr>\n",
       "      <th>2021-10-12</th>\n",
       "      <td>143.229996</td>\n",
       "      <td>143.250000</td>\n",
       "      <td>141.039993</td>\n",
       "      <td>141.509995</td>\n",
       "      <td>140.721451</td>\n",
       "      <td>73035900</td>\n",
       "      <td>-0.009103</td>\n",
       "      <td>-0.009145</td>\n",
       "    </tr>\n",
       "    <tr>\n",
       "      <th>2021-10-13</th>\n",
       "      <td>141.240005</td>\n",
       "      <td>141.399994</td>\n",
       "      <td>139.199997</td>\n",
       "      <td>140.910004</td>\n",
       "      <td>140.124786</td>\n",
       "      <td>78762700</td>\n",
       "      <td>-0.004240</td>\n",
       "      <td>-0.004249</td>\n",
       "    </tr>\n",
       "    <tr>\n",
       "      <th>2021-10-14</th>\n",
       "      <td>142.110001</td>\n",
       "      <td>143.880005</td>\n",
       "      <td>141.509995</td>\n",
       "      <td>143.759995</td>\n",
       "      <td>142.958923</td>\n",
       "      <td>69907100</td>\n",
       "      <td>0.020226</td>\n",
       "      <td>0.020024</td>\n",
       "    </tr>\n",
       "    <tr>\n",
       "      <th>2021-10-15</th>\n",
       "      <td>143.770004</td>\n",
       "      <td>144.899994</td>\n",
       "      <td>143.509995</td>\n",
       "      <td>144.839996</td>\n",
       "      <td>144.032898</td>\n",
       "      <td>67940300</td>\n",
       "      <td>0.007513</td>\n",
       "      <td>0.007484</td>\n",
       "    </tr>\n",
       "  </tbody>\n",
       "</table>\n",
       "</div>"
      ],
      "text/plain": [
       "                  Open        High         Low       Close   Adj Close  \\\n",
       "Date                                                                     \n",
       "2021-10-11  142.270004  144.809998  141.809998  142.809998  142.014206   \n",
       "2021-10-12  143.229996  143.250000  141.039993  141.509995  140.721451   \n",
       "2021-10-13  141.240005  141.399994  139.199997  140.910004  140.124786   \n",
       "2021-10-14  142.110001  143.880005  141.509995  143.759995  142.958923   \n",
       "2021-10-15  143.770004  144.899994  143.509995  144.839996  144.032898   \n",
       "\n",
       "              Volume     %-chg  Log returns  \n",
       "Date                                         \n",
       "2021-10-11  64452200       NaN          NaN  \n",
       "2021-10-12  73035900 -0.009103    -0.009145  \n",
       "2021-10-13  78762700 -0.004240    -0.004249  \n",
       "2021-10-14  69907100  0.020226     0.020024  \n",
       "2021-10-15  67940300  0.007513     0.007484  "
      ]
     },
     "execution_count": 28,
     "metadata": {},
     "output_type": "execute_result"
    }
   ],
   "source": [
    "# moving average\n",
    "\n",
    "data.head()"
   ]
  },
  {
   "cell_type": "code",
   "execution_count": 29,
   "id": "9fc84ca2-eb2d-4b48-ac1f-6a7cdde44934",
   "metadata": {},
   "outputs": [
    {
     "data": {
      "text/plain": [
       "Date\n",
       "2021-10-11           NaN\n",
       "2021-10-12    284.319993\n",
       "2021-10-13    282.419999\n",
       "2021-10-14    284.669999\n",
       "2021-10-15    288.599991\n",
       "                 ...    \n",
       "2022-10-04    288.550003\n",
       "2022-10-05    292.500000\n",
       "2022-10-06    291.829987\n",
       "2022-10-07    285.519989\n",
       "2022-10-10    280.509994\n",
       "Name: Close, Length: 252, dtype: float64"
      ]
     },
     "execution_count": 29,
     "metadata": {},
     "output_type": "execute_result"
    }
   ],
   "source": [
    "# rolling function the data row by row  and apply the function we set (sum, mean or etc)\n",
    "data[\"Close\"].rolling(2).sum()"
   ]
  },
  {
   "cell_type": "code",
   "execution_count": 33,
   "id": "ef3438ee-9ee7-4d89-9866-c91f5af4dbe5",
   "metadata": {},
   "outputs": [],
   "source": [
    "#moving average of 10 days MA10\n",
    "\n",
    "data[\"MA10\"] = data[\"Close\"].rolling(10).mean()\n",
    "data[\"MA50\"] = data[\"Close\"].rolling(50).mean()"
   ]
  },
  {
   "cell_type": "code",
   "execution_count": 34,
   "id": "d7f13be3-5e82-414f-9fb0-80655156b58d",
   "metadata": {},
   "outputs": [
    {
     "data": {
      "text/html": [
       "<div>\n",
       "<style scoped>\n",
       "    .dataframe tbody tr th:only-of-type {\n",
       "        vertical-align: middle;\n",
       "    }\n",
       "\n",
       "    .dataframe tbody tr th {\n",
       "        vertical-align: top;\n",
       "    }\n",
       "\n",
       "    .dataframe thead th {\n",
       "        text-align: right;\n",
       "    }\n",
       "</style>\n",
       "<table border=\"1\" class=\"dataframe\">\n",
       "  <thead>\n",
       "    <tr style=\"text-align: right;\">\n",
       "      <th></th>\n",
       "      <th>Open</th>\n",
       "      <th>High</th>\n",
       "      <th>Low</th>\n",
       "      <th>Close</th>\n",
       "      <th>Adj Close</th>\n",
       "      <th>Volume</th>\n",
       "      <th>%-chg</th>\n",
       "      <th>Log returns</th>\n",
       "      <th>MA10</th>\n",
       "      <th>MA50</th>\n",
       "    </tr>\n",
       "    <tr>\n",
       "      <th>Date</th>\n",
       "      <th></th>\n",
       "      <th></th>\n",
       "      <th></th>\n",
       "      <th></th>\n",
       "      <th></th>\n",
       "      <th></th>\n",
       "      <th></th>\n",
       "      <th></th>\n",
       "      <th></th>\n",
       "      <th></th>\n",
       "    </tr>\n",
       "  </thead>\n",
       "  <tbody>\n",
       "    <tr>\n",
       "      <th>2022-10-04</th>\n",
       "      <td>145.029999</td>\n",
       "      <td>146.220001</td>\n",
       "      <td>144.259995</td>\n",
       "      <td>146.100006</td>\n",
       "      <td>146.100006</td>\n",
       "      <td>87830100</td>\n",
       "      <td>0.025623</td>\n",
       "      <td>0.025300</td>\n",
       "      <td>147.848999</td>\n",
       "      <td>159.364400</td>\n",
       "    </tr>\n",
       "    <tr>\n",
       "      <th>2022-10-05</th>\n",
       "      <td>144.070007</td>\n",
       "      <td>147.380005</td>\n",
       "      <td>143.009995</td>\n",
       "      <td>146.399994</td>\n",
       "      <td>146.399994</td>\n",
       "      <td>79471000</td>\n",
       "      <td>0.002053</td>\n",
       "      <td>0.002051</td>\n",
       "      <td>147.116998</td>\n",
       "      <td>159.260400</td>\n",
       "    </tr>\n",
       "    <tr>\n",
       "      <th>2022-10-06</th>\n",
       "      <td>145.809998</td>\n",
       "      <td>147.539993</td>\n",
       "      <td>145.220001</td>\n",
       "      <td>145.429993</td>\n",
       "      <td>145.429993</td>\n",
       "      <td>68402200</td>\n",
       "      <td>-0.006626</td>\n",
       "      <td>-0.006648</td>\n",
       "      <td>146.385997</td>\n",
       "      <td>159.033200</td>\n",
       "    </tr>\n",
       "    <tr>\n",
       "      <th>2022-10-07</th>\n",
       "      <td>142.539993</td>\n",
       "      <td>143.100006</td>\n",
       "      <td>139.449997</td>\n",
       "      <td>140.089996</td>\n",
       "      <td>140.089996</td>\n",
       "      <td>85859100</td>\n",
       "      <td>-0.036719</td>\n",
       "      <td>-0.037410</td>\n",
       "      <td>145.351997</td>\n",
       "      <td>158.687999</td>\n",
       "    </tr>\n",
       "    <tr>\n",
       "      <th>2022-10-10</th>\n",
       "      <td>140.419998</td>\n",
       "      <td>141.889999</td>\n",
       "      <td>138.570007</td>\n",
       "      <td>140.419998</td>\n",
       "      <td>140.419998</td>\n",
       "      <td>74827900</td>\n",
       "      <td>0.002356</td>\n",
       "      <td>0.002353</td>\n",
       "      <td>144.316997</td>\n",
       "      <td>158.246199</td>\n",
       "    </tr>\n",
       "  </tbody>\n",
       "</table>\n",
       "</div>"
      ],
      "text/plain": [
       "                  Open        High         Low       Close   Adj Close  \\\n",
       "Date                                                                     \n",
       "2022-10-04  145.029999  146.220001  144.259995  146.100006  146.100006   \n",
       "2022-10-05  144.070007  147.380005  143.009995  146.399994  146.399994   \n",
       "2022-10-06  145.809998  147.539993  145.220001  145.429993  145.429993   \n",
       "2022-10-07  142.539993  143.100006  139.449997  140.089996  140.089996   \n",
       "2022-10-10  140.419998  141.889999  138.570007  140.419998  140.419998   \n",
       "\n",
       "              Volume     %-chg  Log returns        MA10        MA50  \n",
       "Date                                                                 \n",
       "2022-10-04  87830100  0.025623     0.025300  147.848999  159.364400  \n",
       "2022-10-05  79471000  0.002053     0.002051  147.116998  159.260400  \n",
       "2022-10-06  68402200 -0.006626    -0.006648  146.385997  159.033200  \n",
       "2022-10-07  85859100 -0.036719    -0.037410  145.351997  158.687999  \n",
       "2022-10-10  74827900  0.002356     0.002353  144.316997  158.246199  "
      ]
     },
     "execution_count": 34,
     "metadata": {},
     "output_type": "execute_result"
    }
   ],
   "source": [
    "data.tail()"
   ]
  },
  {
   "cell_type": "code",
   "execution_count": 36,
   "id": "e0342631-95b5-437a-9f5b-91eccb4066f3",
   "metadata": {},
   "outputs": [],
   "source": [
    "#exponential moving average with ewm function\n",
    "\n",
    "data[\"EMA10\"] = data[\"Close\"].ewm(span=10, adjust=False).mean()"
   ]
  },
  {
   "cell_type": "code",
   "execution_count": 37,
   "id": "84f07709-5aa0-44ef-aa2d-1da698179b56",
   "metadata": {},
   "outputs": [
    {
     "data": {
      "text/html": [
       "<div>\n",
       "<style scoped>\n",
       "    .dataframe tbody tr th:only-of-type {\n",
       "        vertical-align: middle;\n",
       "    }\n",
       "\n",
       "    .dataframe tbody tr th {\n",
       "        vertical-align: top;\n",
       "    }\n",
       "\n",
       "    .dataframe thead th {\n",
       "        text-align: right;\n",
       "    }\n",
       "</style>\n",
       "<table border=\"1\" class=\"dataframe\">\n",
       "  <thead>\n",
       "    <tr style=\"text-align: right;\">\n",
       "      <th></th>\n",
       "      <th>Open</th>\n",
       "      <th>High</th>\n",
       "      <th>Low</th>\n",
       "      <th>Close</th>\n",
       "      <th>Adj Close</th>\n",
       "      <th>Volume</th>\n",
       "      <th>%-chg</th>\n",
       "      <th>Log returns</th>\n",
       "      <th>MA10</th>\n",
       "      <th>MA50</th>\n",
       "      <th>EMA10</th>\n",
       "    </tr>\n",
       "    <tr>\n",
       "      <th>Date</th>\n",
       "      <th></th>\n",
       "      <th></th>\n",
       "      <th></th>\n",
       "      <th></th>\n",
       "      <th></th>\n",
       "      <th></th>\n",
       "      <th></th>\n",
       "      <th></th>\n",
       "      <th></th>\n",
       "      <th></th>\n",
       "      <th></th>\n",
       "    </tr>\n",
       "  </thead>\n",
       "  <tbody>\n",
       "    <tr>\n",
       "      <th>2022-10-04</th>\n",
       "      <td>145.029999</td>\n",
       "      <td>146.220001</td>\n",
       "      <td>144.259995</td>\n",
       "      <td>146.100006</td>\n",
       "      <td>146.100006</td>\n",
       "      <td>87830100</td>\n",
       "      <td>0.025623</td>\n",
       "      <td>0.025300</td>\n",
       "      <td>147.848999</td>\n",
       "      <td>159.364400</td>\n",
       "      <td>147.128530</td>\n",
       "    </tr>\n",
       "    <tr>\n",
       "      <th>2022-10-05</th>\n",
       "      <td>144.070007</td>\n",
       "      <td>147.380005</td>\n",
       "      <td>143.009995</td>\n",
       "      <td>146.399994</td>\n",
       "      <td>146.399994</td>\n",
       "      <td>79471000</td>\n",
       "      <td>0.002053</td>\n",
       "      <td>0.002051</td>\n",
       "      <td>147.116998</td>\n",
       "      <td>159.260400</td>\n",
       "      <td>146.996069</td>\n",
       "    </tr>\n",
       "    <tr>\n",
       "      <th>2022-10-06</th>\n",
       "      <td>145.809998</td>\n",
       "      <td>147.539993</td>\n",
       "      <td>145.220001</td>\n",
       "      <td>145.429993</td>\n",
       "      <td>145.429993</td>\n",
       "      <td>68402200</td>\n",
       "      <td>-0.006626</td>\n",
       "      <td>-0.006648</td>\n",
       "      <td>146.385997</td>\n",
       "      <td>159.033200</td>\n",
       "      <td>146.711328</td>\n",
       "    </tr>\n",
       "    <tr>\n",
       "      <th>2022-10-07</th>\n",
       "      <td>142.539993</td>\n",
       "      <td>143.100006</td>\n",
       "      <td>139.449997</td>\n",
       "      <td>140.089996</td>\n",
       "      <td>140.089996</td>\n",
       "      <td>85859100</td>\n",
       "      <td>-0.036719</td>\n",
       "      <td>-0.037410</td>\n",
       "      <td>145.351997</td>\n",
       "      <td>158.687999</td>\n",
       "      <td>145.507450</td>\n",
       "    </tr>\n",
       "    <tr>\n",
       "      <th>2022-10-10</th>\n",
       "      <td>140.419998</td>\n",
       "      <td>141.889999</td>\n",
       "      <td>138.570007</td>\n",
       "      <td>140.419998</td>\n",
       "      <td>140.419998</td>\n",
       "      <td>74827900</td>\n",
       "      <td>0.002356</td>\n",
       "      <td>0.002353</td>\n",
       "      <td>144.316997</td>\n",
       "      <td>158.246199</td>\n",
       "      <td>144.582458</td>\n",
       "    </tr>\n",
       "  </tbody>\n",
       "</table>\n",
       "</div>"
      ],
      "text/plain": [
       "                  Open        High         Low       Close   Adj Close  \\\n",
       "Date                                                                     \n",
       "2022-10-04  145.029999  146.220001  144.259995  146.100006  146.100006   \n",
       "2022-10-05  144.070007  147.380005  143.009995  146.399994  146.399994   \n",
       "2022-10-06  145.809998  147.539993  145.220001  145.429993  145.429993   \n",
       "2022-10-07  142.539993  143.100006  139.449997  140.089996  140.089996   \n",
       "2022-10-10  140.419998  141.889999  138.570007  140.419998  140.419998   \n",
       "\n",
       "              Volume     %-chg  Log returns        MA10        MA50  \\\n",
       "Date                                                                  \n",
       "2022-10-04  87830100  0.025623     0.025300  147.848999  159.364400   \n",
       "2022-10-05  79471000  0.002053     0.002051  147.116998  159.260400   \n",
       "2022-10-06  68402200 -0.006626    -0.006648  146.385997  159.033200   \n",
       "2022-10-07  85859100 -0.036719    -0.037410  145.351997  158.687999   \n",
       "2022-10-10  74827900  0.002356     0.002353  144.316997  158.246199   \n",
       "\n",
       "                 EMA10  \n",
       "Date                    \n",
       "2022-10-04  147.128530  \n",
       "2022-10-05  146.996069  \n",
       "2022-10-06  146.711328  \n",
       "2022-10-07  145.507450  \n",
       "2022-10-10  144.582458  "
      ]
     },
     "execution_count": 37,
     "metadata": {},
     "output_type": "execute_result"
    }
   ],
   "source": [
    "data.tail()"
   ]
  },
  {
   "cell_type": "code",
   "execution_count": 47,
   "id": "46e68767-acb2-4097-9375-ef8d8ab017db",
   "metadata": {},
   "outputs": [
    {
     "data": {
      "text/plain": [
       "<AxesSubplot:xlabel='Date'>"
      ]
     },
     "execution_count": 47,
     "metadata": {},
     "output_type": "execute_result"
    },
    {
     "data": {
      "image/png": "[encoded data removed]",
      "text/plain": [
       "<Figure size 432x288 with 1 Axes>"
      ]
     },
     "metadata": {
      "needs_background": "light"
     },
     "output_type": "display_data"
    }
   ],
   "source": [
    "fig, ax = plt.subplots()\n",
    "data[[\"MA10\", \"EMA10\"]].loc[\"2022-01-01\":].plot(ax=ax)\n",
    "data[\"Close\"].loc[\"2022-01-01\":].plot(ax=ax, alpha=0.5)"
   ]
  },
  {
   "cell_type": "code",
   "execution_count": null,
   "id": "f6856b13-ca7d-48a7-b9cf-9ddd26f3a6ea",
   "metadata": {},
   "outputs": [],
   "source": []
  }
 ],
 "metadata": {
  "kernelspec": {
   "display_name": "Python 3 (ipykernel)",
   "language": "python",
   "name": "python3"
  },
  "language_info": {
   "codemirror_mode": {
    "name": "ipython",
    "version": 3
   },
   "file_extension": ".py",
   "mimetype": "text/x-python",
   "name": "python",
   "nbconvert_exporter": "python",
   "pygments_lexer": "ipython3",
   "version": "3.9.12"
  }
 },
 "nbformat": 4,
 "nbformat_minor": 5
}
