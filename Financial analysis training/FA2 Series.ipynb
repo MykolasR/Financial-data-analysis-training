{
 "cells": [
  {
   "cell_type": "code",
   "execution_count": 1,
   "id": "5cc07822-3ca5-4e31-91d1-85a8a49a8fef",
   "metadata": {},
   "outputs": [],
   "source": [
    "import pandas as pd\n"
   ]
  },
  {
   "cell_type": "code",
   "execution_count": 3,
   "id": "0a5b3f31-ebe2-4504-92a1-6f25a40b5cf4",
   "metadata": {},
   "outputs": [],
   "source": [
    "data=pd.read_csv(\"C:/Users/Vartotojas/Desktop/Financial analysis training/AAPL.csv\", index_col=0, parse_dates=True)"
   ]
  },
  {
   "cell_type": "code",
   "execution_count": 19,
   "id": "3d94aa78-c13c-4cda-a5b7-daa36c5f770e",
   "metadata": {},
   "outputs": [
    {
     "data": {
      "text/html": [
       "<div>\n",
       "<style scoped>\n",
       "    .dataframe tbody tr th:only-of-type {\n",
       "        vertical-align: middle;\n",
       "    }\n",
       "\n",
       "    .dataframe tbody tr th {\n",
       "        vertical-align: top;\n",
       "    }\n",
       "\n",
       "    .dataframe thead th {\n",
       "        text-align: right;\n",
       "    }\n",
       "</style>\n",
       "<table border=\"1\" class=\"dataframe\">\n",
       "  <thead>\n",
       "    <tr style=\"text-align: right;\">\n",
       "      <th></th>\n",
       "      <th>Open</th>\n",
       "      <th>High</th>\n",
       "      <th>Low</th>\n",
       "      <th>Close</th>\n",
       "      <th>Adj Close</th>\n",
       "      <th>Volume</th>\n",
       "    </tr>\n",
       "    <tr>\n",
       "      <th>Date</th>\n",
       "      <th></th>\n",
       "      <th></th>\n",
       "      <th></th>\n",
       "      <th></th>\n",
       "      <th></th>\n",
       "      <th></th>\n",
       "    </tr>\n",
       "  </thead>\n",
       "  <tbody>\n",
       "    <tr>\n",
       "      <th>2021-10-11</th>\n",
       "      <td>142.270004</td>\n",
       "      <td>144.809998</td>\n",
       "      <td>141.809998</td>\n",
       "      <td>142.809998</td>\n",
       "      <td>142.014206</td>\n",
       "      <td>64452200</td>\n",
       "    </tr>\n",
       "    <tr>\n",
       "      <th>2021-10-12</th>\n",
       "      <td>143.229996</td>\n",
       "      <td>143.250000</td>\n",
       "      <td>141.039993</td>\n",
       "      <td>141.509995</td>\n",
       "      <td>140.721451</td>\n",
       "      <td>73035900</td>\n",
       "    </tr>\n",
       "    <tr>\n",
       "      <th>2021-10-13</th>\n",
       "      <td>141.240005</td>\n",
       "      <td>141.399994</td>\n",
       "      <td>139.199997</td>\n",
       "      <td>140.910004</td>\n",
       "      <td>140.124786</td>\n",
       "      <td>78762700</td>\n",
       "    </tr>\n",
       "    <tr>\n",
       "      <th>2021-10-14</th>\n",
       "      <td>142.110001</td>\n",
       "      <td>143.880005</td>\n",
       "      <td>141.509995</td>\n",
       "      <td>143.759995</td>\n",
       "      <td>142.958923</td>\n",
       "      <td>69907100</td>\n",
       "    </tr>\n",
       "    <tr>\n",
       "      <th>2021-10-15</th>\n",
       "      <td>143.770004</td>\n",
       "      <td>144.899994</td>\n",
       "      <td>143.509995</td>\n",
       "      <td>144.839996</td>\n",
       "      <td>144.032898</td>\n",
       "      <td>67940300</td>\n",
       "    </tr>\n",
       "    <tr>\n",
       "      <th>...</th>\n",
       "      <td>...</td>\n",
       "      <td>...</td>\n",
       "      <td>...</td>\n",
       "      <td>...</td>\n",
       "      <td>...</td>\n",
       "      <td>...</td>\n",
       "    </tr>\n",
       "    <tr>\n",
       "      <th>2022-10-04</th>\n",
       "      <td>145.029999</td>\n",
       "      <td>146.220001</td>\n",
       "      <td>144.259995</td>\n",
       "      <td>146.100006</td>\n",
       "      <td>146.100006</td>\n",
       "      <td>87830100</td>\n",
       "    </tr>\n",
       "    <tr>\n",
       "      <th>2022-10-05</th>\n",
       "      <td>144.070007</td>\n",
       "      <td>147.380005</td>\n",
       "      <td>143.009995</td>\n",
       "      <td>146.399994</td>\n",
       "      <td>146.399994</td>\n",
       "      <td>79471000</td>\n",
       "    </tr>\n",
       "    <tr>\n",
       "      <th>2022-10-06</th>\n",
       "      <td>145.809998</td>\n",
       "      <td>147.539993</td>\n",
       "      <td>145.220001</td>\n",
       "      <td>145.429993</td>\n",
       "      <td>145.429993</td>\n",
       "      <td>68402200</td>\n",
       "    </tr>\n",
       "    <tr>\n",
       "      <th>2022-10-07</th>\n",
       "      <td>142.539993</td>\n",
       "      <td>143.100006</td>\n",
       "      <td>139.449997</td>\n",
       "      <td>140.089996</td>\n",
       "      <td>140.089996</td>\n",
       "      <td>85859100</td>\n",
       "    </tr>\n",
       "    <tr>\n",
       "      <th>2022-10-10</th>\n",
       "      <td>140.419998</td>\n",
       "      <td>141.889999</td>\n",
       "      <td>138.570007</td>\n",
       "      <td>140.419998</td>\n",
       "      <td>140.419998</td>\n",
       "      <td>74827900</td>\n",
       "    </tr>\n",
       "  </tbody>\n",
       "</table>\n",
       "<p>252 rows × 6 columns</p>\n",
       "</div>"
      ],
      "text/plain": [
       "                  Open        High         Low       Close   Adj Close  \\\n",
       "Date                                                                     \n",
       "2021-10-11  142.270004  144.809998  141.809998  142.809998  142.014206   \n",
       "2021-10-12  143.229996  143.250000  141.039993  141.509995  140.721451   \n",
       "2021-10-13  141.240005  141.399994  139.199997  140.910004  140.124786   \n",
       "2021-10-14  142.110001  143.880005  141.509995  143.759995  142.958923   \n",
       "2021-10-15  143.770004  144.899994  143.509995  144.839996  144.032898   \n",
       "...                ...         ...         ...         ...         ...   \n",
       "2022-10-04  145.029999  146.220001  144.259995  146.100006  146.100006   \n",
       "2022-10-05  144.070007  147.380005  143.009995  146.399994  146.399994   \n",
       "2022-10-06  145.809998  147.539993  145.220001  145.429993  145.429993   \n",
       "2022-10-07  142.539993  143.100006  139.449997  140.089996  140.089996   \n",
       "2022-10-10  140.419998  141.889999  138.570007  140.419998  140.419998   \n",
       "\n",
       "              Volume  \n",
       "Date                  \n",
       "2021-10-11  64452200  \n",
       "2021-10-12  73035900  \n",
       "2021-10-13  78762700  \n",
       "2021-10-14  69907100  \n",
       "2021-10-15  67940300  \n",
       "...              ...  \n",
       "2022-10-04  87830100  \n",
       "2022-10-05  79471000  \n",
       "2022-10-06  68402200  \n",
       "2022-10-07  85859100  \n",
       "2022-10-10  74827900  \n",
       "\n",
       "[252 rows x 6 columns]"
      ]
     },
     "execution_count": 19,
     "metadata": {},
     "output_type": "execute_result"
    }
   ],
   "source": [
    "data"
   ]
  },
  {
   "cell_type": "code",
   "execution_count": 8,
   "id": "ede2617b-5be3-4fa7-a5d0-5bb996f0ce10",
   "metadata": {},
   "outputs": [
    {
     "data": {
      "text/plain": [
       "Open         float64\n",
       "High         float64\n",
       "Low          float64\n",
       "Close        float64\n",
       "Adj Close    float64\n",
       "Volume         int64\n",
       "dtype: object"
      ]
     },
     "execution_count": 8,
     "metadata": {},
     "output_type": "execute_result"
    }
   ],
   "source": [
    "data.dtypes"
   ]
  },
  {
   "cell_type": "code",
   "execution_count": 5,
   "id": "acd9dd7b-e406-4519-a58e-1ffa31322c3d",
   "metadata": {},
   "outputs": [
    {
     "data": {
      "text/plain": [
       "pandas.core.frame.DataFrame"
      ]
     },
     "execution_count": 5,
     "metadata": {},
     "output_type": "execute_result"
    }
   ],
   "source": [
    "type(data)"
   ]
  },
  {
   "cell_type": "code",
   "execution_count": 6,
   "id": "5303a6ee-f5da-40cb-b5c3-7eff532c6ae2",
   "metadata": {},
   "outputs": [
    {
     "data": {
      "text/plain": [
       "Date\n",
       "2021-10-11    142.809998\n",
       "2021-10-12    141.509995\n",
       "2021-10-13    140.910004\n",
       "2021-10-14    143.759995\n",
       "2021-10-15    144.839996\n",
       "                 ...    \n",
       "2022-10-04    146.100006\n",
       "2022-10-05    146.399994\n",
       "2022-10-06    145.429993\n",
       "2022-10-07    140.089996\n",
       "2022-10-10    140.419998\n",
       "Name: Close, Length: 252, dtype: float64"
      ]
     },
     "execution_count": 6,
     "metadata": {},
     "output_type": "execute_result"
    }
   ],
   "source": [
    "data[\"Close\"]"
   ]
  },
  {
   "cell_type": "code",
   "execution_count": 7,
   "id": "21814246-db4b-4f66-859e-dcadeafe3133",
   "metadata": {},
   "outputs": [
    {
     "data": {
      "text/plain": [
       "pandas.core.series.Series"
      ]
     },
     "execution_count": 7,
     "metadata": {},
     "output_type": "execute_result"
    }
   ],
   "source": [
    "type(data[\"Close\"])"
   ]
  },
  {
   "cell_type": "code",
   "execution_count": 13,
   "id": "30a0c951-c812-4d5c-88dd-cfb07a3e0bff",
   "metadata": {},
   "outputs": [
    {
     "data": {
      "text/plain": [
       "Date\n",
       "2021-10-11    0.539994\n",
       "2021-10-12   -1.720001\n",
       "2021-10-13   -0.330001\n",
       "2021-10-14    1.649994\n",
       "2021-10-15    1.069992\n",
       "                ...   \n",
       "2022-10-04    1.070007\n",
       "2022-10-05    2.329987\n",
       "2022-10-06   -0.380005\n",
       "2022-10-07   -2.449997\n",
       "2022-10-10    0.000000\n",
       "Length: 252, dtype: float64"
      ]
     },
     "execution_count": 13,
     "metadata": {},
     "output_type": "execute_result"
    }
   ],
   "source": [
    "# Start calculations daily change formula Close - Open\n",
    "\n",
    "daily_chg=data[\"Close\"] - data[\"Open\"]\n",
    "daily_chg"
   ]
  },
  {
   "cell_type": "code",
   "execution_count": 11,
   "id": "bbd7e83f-11ad-43bb-9aa1-f5f08af8743d",
   "metadata": {},
   "outputs": [
    {
     "data": {
      "text/plain": [
       "pandas.core.series.Series"
      ]
     },
     "execution_count": 11,
     "metadata": {},
     "output_type": "execute_result"
    }
   ],
   "source": [
    "type(daily_chg)"
   ]
  },
  {
   "cell_type": "code",
   "execution_count": 12,
   "id": "28321c81-21dd-420d-849c-11e74ec672c9",
   "metadata": {},
   "outputs": [
    {
     "data": {
      "text/plain": [
       "Date\n",
       "2021-10-11    0.379556\n",
       "2021-10-12   -1.200866\n",
       "2021-10-13   -0.233646\n",
       "2021-10-14    1.161068\n",
       "2021-10-15    0.744239\n",
       "                ...   \n",
       "2022-10-04    0.737783\n",
       "2022-10-05    1.617260\n",
       "2022-10-06   -0.260617\n",
       "2022-10-07   -1.718814\n",
       "2022-10-10    0.000000\n",
       "Length: 252, dtype: float64"
      ]
     },
     "execution_count": 12,
     "metadata": {},
     "output_type": "execute_result"
    }
   ],
   "source": [
    "# formule daily percentage change is (Close - Open) / Open * 100\n",
    "\n",
    "daily_pct_chg = (data[\"Close\"] - data[\"Open\"])/data[\"Open\"] * 100\n",
    "\n",
    "daily_pct_chg"
   ]
  },
  {
   "cell_type": "code",
   "execution_count": 14,
   "id": "ebe216e5-44d2-469a-8123-957fbe06b7a1",
   "metadata": {},
   "outputs": [
    {
     "data": {
      "text/plain": [
       "142.809998"
      ]
     },
     "execution_count": 14,
     "metadata": {},
     "output_type": "execute_result"
    }
   ],
   "source": [
    "data[\"Close\"].iloc[0]"
   ]
  },
  {
   "cell_type": "code",
   "execution_count": 15,
   "id": "5edd54d7-7e6c-451c-bcbb-685af4ae643d",
   "metadata": {},
   "outputs": [
    {
     "data": {
      "text/plain": [
       "140.419998"
      ]
     },
     "execution_count": 15,
     "metadata": {},
     "output_type": "execute_result"
    }
   ],
   "source": [
    "data[\"Close\"].iloc[-1]"
   ]
  },
  {
   "cell_type": "code",
   "execution_count": 17,
   "id": "9a5c3837-d000-497d-a4cb-7eac34c20c00",
   "metadata": {},
   "outputs": [
    {
     "data": {
      "text/plain": [
       "Date\n",
       "2021-10-11    1.000000\n",
       "2021-10-12    0.990897\n",
       "2021-10-13    0.986696\n",
       "2021-10-14    1.006652\n",
       "2021-10-15    1.014215\n",
       "                ...   \n",
       "2022-10-04    1.023038\n",
       "2022-10-05    1.025138\n",
       "2022-10-06    1.018346\n",
       "2022-10-07    0.980954\n",
       "2022-10-10    0.983264\n",
       "Name: Close, Length: 252, dtype: float64"
      ]
     },
     "execution_count": 17,
     "metadata": {},
     "output_type": "execute_result"
    }
   ],
   "source": [
    "# calculate how much you gain: Close divided by Close of the first day (data[\"Close\"].iloc[0])\n",
    "norm = data[\"Close\"]/data[\"Close\"].iloc[0]\n",
    "norm\n"
   ]
  },
  {
   "cell_type": "code",
   "execution_count": 18,
   "id": "d5437ff5-c0da-4fa4-bef1-0a878f529bc5",
   "metadata": {},
   "outputs": [
    {
     "data": {
      "text/plain": [
       "140.419998"
      ]
     },
     "execution_count": 18,
     "metadata": {},
     "output_type": "execute_result"
    }
   ],
   "source": [
    "# LAst closing price we get first day close price multiply by norm last factor\n",
    "data[\"Close\"].iloc[0] * norm.iloc[-1]"
   ]
  },
  {
   "cell_type": "code",
   "execution_count": 20,
   "id": "43bf2011-3e02-49d5-b752-8a3188b77b88",
   "metadata": {},
   "outputs": [
    {
     "data": {
      "text/plain": [
       "140.419998"
      ]
     },
     "execution_count": 20,
     "metadata": {},
     "output_type": "execute_result"
    }
   ],
   "source": [
    "# the same calculation is in simplified way\n",
    "data[\"Close\"].iloc[-1]"
   ]
  },
  {
   "cell_type": "code",
   "execution_count": null,
   "id": "8c553738-ac09-468b-9fb9-0e0e05619298",
   "metadata": {},
   "outputs": [],
   "source": []
  }
 ],
 "metadata": {
  "kernelspec": {
   "display_name": "Python 3 (ipykernel)",
   "language": "python",
   "name": "python3"
  },
  "language_info": {
   "codemirror_mode": {
    "name": "ipython",
    "version": 3
   },
   "file_extension": ".py",
   "mimetype": "text/x-python",
   "name": "python",
   "nbconvert_exporter": "python",
   "pygments_lexer": "ipython3",
   "version": "3.9.12"
  }
 },
 "nbformat": 4,
 "nbformat_minor": 5
}
